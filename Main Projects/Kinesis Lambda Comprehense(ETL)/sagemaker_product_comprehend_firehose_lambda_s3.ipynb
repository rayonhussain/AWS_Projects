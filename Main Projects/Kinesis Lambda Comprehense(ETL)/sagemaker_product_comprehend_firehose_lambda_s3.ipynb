{
 "cells": [
  {
   "cell_type": "code",
   "execution_count": 1,
   "id": "8b5155f6",
   "metadata": {},
   "outputs": [
    {
     "name": "stdout",
     "output_type": "stream",
     "text": [
      "Requirement already satisfied: pyarrow in /home/ec2-user/anaconda3/envs/python3/lib/python3.10/site-packages (15.0.0)\r\n",
      "Requirement already satisfied: numpy<2,>=1.16.6 in /home/ec2-user/anaconda3/envs/python3/lib/python3.10/site-packages (from pyarrow) (1.22.4)\r\n"
     ]
    }
   ],
   "source": [
    "!pip install pyarrow"
   ]
  },
  {
   "cell_type": "code",
   "execution_count": 2,
   "id": "008cddca",
   "metadata": {},
   "outputs": [],
   "source": [
    "import numpy as np\n",
    "import pandas as pd\n",
    "import matplotlib.pyplot as plt\n",
    "import re\n",
    "import pyarrow.parquet as pq \n",
    "import boto3"
   ]
  },
  {
   "cell_type": "code",
   "execution_count": 3,
   "id": "dc0c35dd",
   "metadata": {},
   "outputs": [],
   "source": [
    " parquet_file_name = r\"customer_reviews_with_sentiment.parquet\" "
   ]
  },
  {
   "cell_type": "code",
   "execution_count": 4,
   "id": "47c22088",
   "metadata": {},
   "outputs": [],
   "source": [
    " df = pd.read_parquet(parquet_file_name) "
   ]
  },
  {
   "cell_type": "code",
   "execution_count": 5,
   "id": "67e85909",
   "metadata": {},
   "outputs": [
    {
     "name": "stdout",
     "output_type": "stream",
     "text": [
      "Rows: 96833, Columns: 16\n"
     ]
    }
   ],
   "source": [
    " print('Rows: {0}, Columns: {1}'.format(df.shape[0],df.shape[1])) "
   ]
  },
  {
   "cell_type": "code",
   "execution_count": 6,
   "id": "10fcd0f5",
   "metadata": {},
   "outputs": [],
   "source": [
    " session = boto3.Session(region_name='us-east-1') "
   ]
  },
  {
   "cell_type": "code",
   "execution_count": 7,
   "id": "435d8c72",
   "metadata": {},
   "outputs": [],
   "source": [
    " client = session.client('comprehend') "
   ]
  },
  {
   "cell_type": "code",
   "execution_count": 8,
   "id": "1c077d1f",
   "metadata": {},
   "outputs": [],
   "source": [
    "# Try some examples\n",
    "sentiment = client.detect_sentiment(\n",
    "    Text=\"It's insulting that @awscloud marked an EBS volume limit increase support request as low severity but I can't do anything while I wait.\",\n",
    "    LanguageCode='en'\n",
    ") "
   ]
  },
  {
   "cell_type": "code",
   "execution_count": 9,
   "id": "c94bc5a0",
   "metadata": {},
   "outputs": [
    {
     "name": "stdout",
     "output_type": "stream",
     "text": [
      "{'Sentiment': 'NEGATIVE', 'SentimentScore': {'Positive': 0.0009363636490888894, 'Negative': 0.965487003326416, 'Neutral': 0.03050602786242962, 'Mixed': 0.0030704874079674482}, 'ResponseMetadata': {'RequestId': 'bf5f43e9-05a3-465d-a4e3-7182b9f37d70', 'HTTPStatusCode': 200, 'HTTPHeaders': {'x-amzn-requestid': 'bf5f43e9-05a3-465d-a4e3-7182b9f37d70', 'content-type': 'application/x-amz-json-1.1', 'content-length': '164', 'date': 'Thu, 25 Apr 2024 18:30:40 GMT'}, 'RetryAttempts': 0}}\n"
     ]
    }
   ],
   "source": [
    "print(sentiment)"
   ]
  },
  {
   "cell_type": "code",
   "execution_count": 10,
   "id": "203c84a4",
   "metadata": {},
   "outputs": [
    {
     "name": "stdout",
     "output_type": "stream",
     "text": [
      "If you need a new stove, this is a winner. - What a great stove.  What a wonderful replacement for my sort of antique.  Enjoy it every day.\n",
      "POSITIVE\n",
      "\n",
      "Five Stars - worked great\n",
      "POSITIVE\n",
      "\n",
      "Fast Shipping - Part exactly what I needed.  Saved by purchasing myself.\n",
      "POSITIVE\n",
      "\n",
      "Five Stars - Love my refrigerator! ! Keeps everything  cold..will recommend!\n",
      "POSITIVE\n",
      "\n",
      "Five Stars - No more running to the store for ice!  Works perfectly.\n",
      "POSITIVE\n",
      "\n",
      "Piece of Junk - It would not cool below 55 degrees and has now stopped working all together.  I would NOT recommend this piece of junk to anyone.\n",
      "NEGATIVE\n",
      "\n",
      "Works awesome for apt size 110 dryer - Works awesome for apt size 110 dryer. Handles load from apt size washer just fine. It does take longer to dry. Electric cost savings over a full size 220 is worth the time. Does not add much humidity unless lint filter is full.\n",
      "POSITIVE\n",
      "\n",
      "Five Stars - exactly what I wanted!\n",
      "POSITIVE\n",
      "\n",
      "Four Stars - AS advertised\n",
      "NEUTRAL\n",
      "\n",
      "but has poor insulation in the top - It works as advertised, but has poor insulation in the top. Like the 3rd shelf, it comes in handy for small/short items.\n",
      "MIXED\n",
      "\n",
      "Two Stars - it's not worth 22 dollars, I've heard it became of some value just not that high.\n",
      "NEGATIVE\n",
      "\n",
      "Love it for camping - Wonderful! It spins the clothes out fast! We use this with the washing machine just like this in our camper. Great and saves money at the camp laundry.  Just wash spin and hang up.\n",
      "POSITIVE\n",
      "\n",
      "Four Stars - Did the job but didn't match the original gray wheels.\n",
      "MIXED\n",
      "\n",
      "Very well satisfied. - Arrived on time and exactly as described.  Fits my need perfectly.  Very well satisfied.\n",
      "POSITIVE\n",
      "\n",
      "Five Stars - Super\n",
      "POSITIVE\n",
      "\n",
      "CPU times: user 39.1 ms, sys: 473 µs, total: 39.5 ms\n",
      "Wall time: 547 ms\n"
     ]
    }
   ],
   "source": [
    "%%time\n",
    "# Sentiment of reviews -\n",
    "# One roundtrip to comprehend service for each review\n",
    "for i in range(15):\n",
    "    review = df.iloc[i]['review_headline'] + ' - ' + df.iloc[i]['review_body']\n",
    "    print(review)\n",
    "    sentiment = client.detect_sentiment(Text=review,LanguageCode='en')\n",
    "    print(sentiment['Sentiment'])\n",
    "    print() "
   ]
  },
  {
   "cell_type": "code",
   "execution_count": 11,
   "id": "3e8b42c9",
   "metadata": {},
   "outputs": [],
   "source": [
    " client_firehose = session.client('firehose') "
   ]
  },
  {
   "cell_type": "code",
   "execution_count": 12,
   "id": "dd85c3d4",
   "metadata": {},
   "outputs": [],
   "source": [
    "kinesis_delivery_stream_name = 'PUT-S3-zX3GC'"
   ]
  },
  {
   "cell_type": "code",
   "execution_count": 13,
   "id": "9804e439",
   "metadata": {},
   "outputs": [
    {
     "name": "stdout",
     "output_type": "stream",
     "text": [
      "{\"marketplace\":\"US\",\"customer_id\":\"16199106\",\"review_id\":\"R203HPW78Z7N4K\",\"product_id\":\"B0067WNSZY\",\"product_parent\":\"633038551\",\"product_title\":\"FGGF3032MW Gallery Series 30\\\" Wide Freestanding Gas Range 5 Sealed Burners Easy Temperature Probe Express-Select Controls One-Touch Self Clean:\",\"product_category\":\"Major Appliances\",\"star_rating\":5,\"helpful_votes\":0,\"total_votes\":0,\"vine\":\"N\",\"verified_purchase\":\"Y\",\"review_headline\":\"If you need a new stove, this is a winner.\",\"review_body\":\"What a great stove.  What a wonderful replacement for my sort of antique.  Enjoy it every day.\",\"review_date\":\"2015-08-31\",\"sentiment\":\"POSITIVE\"}\n",
      "\n",
      "Response 200\n",
      "\n",
      "{\"marketplace\":\"US\",\"customer_id\":\"16374060\",\"review_id\":\"R2EAIGVLEALSP3\",\"product_id\":\"B002QSXK60\",\"product_parent\":\"811766671\",\"product_title\":\"Best Hand Clothes Wringer\",\"product_category\":\"Major Appliances\",\"star_rating\":5,\"helpful_votes\":1,\"total_votes\":1,\"vine\":\"N\",\"verified_purchase\":\"Y\",\"review_headline\":\"Five Stars\",\"review_body\":\"worked great\",\"review_date\":\"2015-08-31\",\"sentiment\":\"POSITIVE\"}\n",
      "\n",
      "Response 200\n",
      "\n",
      "{\"marketplace\":\"US\",\"customer_id\":\"15322085\",\"review_id\":\"R1K1CD73HHLILA\",\"product_id\":\"B00EC452R6\",\"product_parent\":\"345562728\",\"product_title\":\"Supco SET184 Thermal Cutoff Kit\",\"product_category\":\"Major Appliances\",\"star_rating\":5,\"helpful_votes\":0,\"total_votes\":0,\"vine\":\"N\",\"verified_purchase\":\"Y\",\"review_headline\":\"Fast Shipping\",\"review_body\":\"Part exactly what I needed.  Saved by purchasing myself.\",\"review_date\":\"2015-08-31\",\"sentiment\":\"POSITIVE\"}\n",
      "\n",
      "Response 200\n",
      "\n",
      "{\"marketplace\":\"US\",\"customer_id\":\"32004835\",\"review_id\":\"R2KZBMOFRMYOPO\",\"product_id\":\"B00MVVIF2G\",\"product_parent\":\"563052763\",\"product_title\":\"Midea WHS-160RB1 Compact Single Reversible Door Refrigerator and Freezer, 4.4 Cubic Feet, Black\",\"product_category\":\"Major Appliances\",\"star_rating\":5,\"helpful_votes\":1,\"total_votes\":1,\"vine\":\"N\",\"verified_purchase\":\"Y\",\"review_headline\":\"Five Stars\",\"review_body\":\"Love my refrigerator! ! Keeps everything  cold..will recommend!\",\"review_date\":\"2015-08-31\",\"sentiment\":\"POSITIVE\"}\n",
      "\n",
      "Response 200\n",
      "\n",
      "{\"marketplace\":\"US\",\"customer_id\":\"25414497\",\"review_id\":\"R6BIZOZY6UD01\",\"product_id\":\"B00IY7BNUW\",\"product_parent\":\"874236579\",\"product_title\":\"Avalon Bay Portable Ice Maker\",\"product_category\":\"Major Appliances\",\"star_rating\":5,\"helpful_votes\":0,\"total_votes\":0,\"vine\":\"N\",\"verified_purchase\":\"Y\",\"review_headline\":\"Five Stars\",\"review_body\":\"No more running to the store for ice!  Works perfectly.\",\"review_date\":\"2015-08-31\",\"sentiment\":\"POSITIVE\"}\n",
      "\n",
      "Response 200\n",
      "\n",
      "{\"marketplace\":\"US\",\"customer_id\":\"36311751\",\"review_id\":\"R1MCXZFNF8E7Y0\",\"product_id\":\"B0033X29CI\",\"product_parent\":\"294467812\",\"product_title\":\"Danby  Freestanding Wine Cooler\",\"product_category\":\"Major Appliances\",\"star_rating\":1,\"helpful_votes\":0,\"total_votes\":0,\"vine\":\"N\",\"verified_purchase\":\"Y\",\"review_headline\":\"Piece of Junk\",\"review_body\":\"It would not cool below 55 degrees and has now stopped working all together.  I would NOT recommend this piece of junk to anyone.\",\"review_date\":\"2015-08-31\",\"sentiment\":\"NEGATIVE\"}\n",
      "\n",
      "Response 200\n",
      "\n",
      "{\"marketplace\":\"US\",\"customer_id\":\"30920961\",\"review_id\":\"R3EMB3E3ODR6BW\",\"product_id\":\"B005R597HA\",\"product_parent\":\"183784715\",\"product_title\":\"Avanti 110-Volt Automatic Portable Compact Dryer with Stainless Drum and See-Thru Window\",\"product_category\":\"Major Appliances\",\"star_rating\":5,\"helpful_votes\":2,\"total_votes\":2,\"vine\":\"N\",\"verified_purchase\":\"Y\",\"review_headline\":\"Works awesome for apt size 110 dryer\",\"review_body\":\"Works awesome for apt size 110 dryer. Handles load from apt size washer just fine. It does take longer to dry. Electric cost savings over a full size 220 is worth the time. Does not add much humidity unless lint filter is full.\",\"review_date\":\"2015-08-31\",\"sentiment\":\"POSITIVE\"}\n",
      "\n",
      "Response 200\n",
      "\n",
      "{\"marketplace\":\"US\",\"customer_id\":\"52491265\",\"review_id\":\"RJTONVTTOPJ5S\",\"product_id\":\"B00MO6V8Y0\",\"product_parent\":\"960251524\",\"product_title\":\"Danby products\",\"product_category\":\"Major Appliances\",\"star_rating\":5,\"helpful_votes\":0,\"total_votes\":0,\"vine\":\"N\",\"verified_purchase\":\"Y\",\"review_headline\":\"Five Stars\",\"review_body\":\"exactly what I wanted!\",\"review_date\":\"2015-08-31\",\"sentiment\":\"POSITIVE\"}\n",
      "\n",
      "Response 200\n",
      "\n",
      "{\"marketplace\":\"US\",\"customer_id\":\"48166169\",\"review_id\":\"R21U5QZ2CQECUM\",\"product_id\":\"B00HT39QDI\",\"product_parent\":\"992475314\",\"product_title\":\"3 Pack Tier1 MSWF GE SmartWater Replacement Refrigerator Water Filter\",\"product_category\":\"Major Appliances\",\"star_rating\":4,\"helpful_votes\":0,\"total_votes\":0,\"vine\":\"N\",\"verified_purchase\":\"Y\",\"review_headline\":\"Four Stars\",\"review_body\":\"AS advertised\",\"review_date\":\"2015-08-31\",\"sentiment\":\"POSITIVE\"}\n",
      "\n",
      "Response 200\n",
      "\n",
      "{\"marketplace\":\"US\",\"customer_id\":\"50394924\",\"review_id\":\"RL2BBC51H89DH\",\"product_id\":\"B00LESFZ52\",\"product_parent\":\"1641606\",\"product_title\":\"True TSSU-60-16 60\\\" 2 Door Refrigerated Sandwich Prep Table | (16) 1\\/6 Pan Capacity\",\"product_category\":\"Major Appliances\",\"star_rating\":4,\"helpful_votes\":0,\"total_votes\":0,\"vine\":\"N\",\"verified_purchase\":\"Y\",\"review_headline\":\"but has poor insulation in the top\",\"review_body\":\"It works as advertised, but has poor insulation in the top. Like the 3rd shelf, it comes in handy for small\\/short items.\",\"review_date\":\"2015-08-31\",\"sentiment\":\"MIXED\"}\n",
      "\n",
      "Response 200\n",
      "\n"
     ]
    },
    {
     "data": {
      "text/plain": [
       "\"if response['ResponseMetadata']['HTTPStatusCode'] != 200:\\n       print (response)\\n   else:\\n       print('.',end=' ')\\n\""
      ]
     },
     "execution_count": 13,
     "metadata": {},
     "output_type": "execute_result"
    }
   ],
   "source": [
    " # Push Reviews to Firehose\n",
    "pattern = r'[\\n\\t\\r]+'\n",
    "for i in range(10):\n",
    "    # Strip out any new line, tab and carriage return from json payload\n",
    "    # Add a new line at the end to ensure firehose places each json record in a separate\n",
    "    # row. without the new line, firehose simply places all records in a single line in S3.\n",
    "    payload = re.sub(pattern,' ', df.iloc[i].to_json()) + \"\\n\"\n",
    "\n",
    "    print(payload)\n",
    "    response = client_firehose.put_record(\n",
    "        DeliveryStreamName=kinesis_delivery_stream_name,\n",
    "        Record={\n",
    "            'Data': payload\n",
    "        }\n",
    "    )\n",
    "\n",
    "    print ('Response',response['ResponseMetadata']['HTTPStatusCode'])\n",
    "    print()\n",
    "'''if response['ResponseMetadata']['HTTPStatusCode'] != 200:\n",
    "        print (response)\n",
    "    else:\n",
    "        print('.',end=' ')\n",
    "'''"
   ]
  },
  {
   "cell_type": "code",
   "execution_count": null,
   "id": "9794148c",
   "metadata": {},
   "outputs": [],
   "source": []
  }
 ],
 "metadata": {
  "kernelspec": {
   "display_name": "conda_python3",
   "language": "python",
   "name": "conda_python3"
  },
  "language_info": {
   "codemirror_mode": {
    "name": "ipython",
    "version": 3
   },
   "file_extension": ".py",
   "mimetype": "text/x-python",
   "name": "python",
   "nbconvert_exporter": "python",
   "pygments_lexer": "ipython3",
   "version": "3.10.13"
  }
 },
 "nbformat": 4,
 "nbformat_minor": 5
}
