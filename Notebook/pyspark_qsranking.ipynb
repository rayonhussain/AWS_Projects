{
	"metadata": {
		"kernelspec": {
			"name": "glue_pyspark",
			"display_name": "Glue PySpark",
			"language": "python"
		},
		"language_info": {
			"name": "Python_Glue_Session",
			"mimetype": "text/x-python",
			"codemirror_mode": {
				"name": "python",
				"version": 3
			},
			"pygments_lexer": "python3",
			"file_extension": ".py"
		}
	},
	"nbformat_minor": 4,
	"nbformat": 4,
	"cells": [
		{
			"cell_type": "markdown",
			"source": "# AWS Glue Studio Notebook\n##### You are now running a AWS Glue Studio notebook; To start using your notebook you need to start an AWS Glue Interactive Session.\n",
			"metadata": {
				"editable": true,
				"trusted": true
			}
		},
		{
			"cell_type": "markdown",
			"source": "#### Optional: Run this cell to see available notebook commands (\"magics\").\n",
			"metadata": {
				"editable": true,
				"trusted": true
			}
		},
		{
			"cell_type": "code",
			"source": "%help",
			"metadata": {
				"trusted": true,
				"editable": true
			},
			"execution_count": null,
			"outputs": []
		},
		{
			"cell_type": "code",
			"source": "",
			"metadata": {},
			"execution_count": null,
			"outputs": []
		},
		{
			"cell_type": "markdown",
			"source": "####  Run this cell to set up and start your interactive session.\n",
			"metadata": {
				"editable": true,
				"trusted": true
			}
		},
		{
			"cell_type": "code",
			"source": "%idle_timeout 2880\n%glue_version 4.0\n%worker_type G.1X\n%number_of_workers 5\n\nimport sys\nfrom awsglue.transforms import *\nfrom awsglue.utils import getResolvedOptions\nfrom pyspark.context import SparkContext\nfrom awsglue.context import GlueContext\nfrom awsglue.job import Job\nfrom awsglue.dynamicframe import DynamicFrame\n  \nsc = SparkContext.getOrCreate()\nglueContext = GlueContext(sc)\nspark = glueContext.spark_session\njob = Job(glueContext)",
			"metadata": {
				"trusted": true,
				"editable": true
			},
			"execution_count": 1,
			"outputs": [
				{
					"name": "stdout",
					"text": "Welcome to the Glue Interactive Sessions Kernel\nFor more information on available magic commands, please type %help in any new cell.\n\nPlease view our Getting Started page to access the most up-to-date information on the Interactive Sessions kernel: https://docs.aws.amazon.com/glue/latest/dg/interactive-sessions.html\nInstalled kernel version: 1.0.4 \nCurrent idle_timeout is None minutes.\nidle_timeout has been set to 2880 minutes.\nSetting Glue version to: 4.0\nPrevious worker type: None\nSetting new worker type to: G.1X\nPrevious number of workers: None\nSetting new number of workers to: 5\nTrying to create a Glue session for the kernel.\nSession Type: glueetl\nWorker Type: G.1X\nNumber of Workers: 5\nSession ID: a370e573-f07d-435b-ad73-004687cf2f68\nApplying the following default arguments:\n--glue_kernel_version 1.0.4\n--enable-glue-datacatalog true\nWaiting for session a370e573-f07d-435b-ad73-004687cf2f68 to get into ready status...\nSession a370e573-f07d-435b-ad73-004687cf2f68 has been created.\n\n",
					"output_type": "stream"
				}
			]
		},
		{
			"cell_type": "markdown",
			"source": "#### Example: Create a DynamicFrame from a table in the AWS Glue Data Catalog and display its schema\n",
			"metadata": {
				"editable": true,
				"trusted": true
			}
		},
		{
			"cell_type": "code",
			"source": "university_ranking_source = glueContext.create_dynamic_frame.from_catalog(database=\"demo_db\",table_name=\"university_ranking_csvcsv\",transformation_ctx=\"UniversityRanking_Source\")",
			"metadata": {
				"trusted": true,
				"tags": []
			},
			"execution_count": 6,
			"outputs": [
				{
					"name": "stdout",
					"text": "\n",
					"output_type": "stream"
				}
			]
		},
		{
			"cell_type": "code",
			"source": "rankings_df = university_ranking_source.toDF() \nrankings_df.show(5)",
			"metadata": {
				"trusted": true,
				"tags": []
			},
			"execution_count": 7,
			"outputs": [
				{
					"name": "stdout",
					"text": "+--------------------+----+------------+-----+--------------------+--------------+---------+-------------+--------------------+-------+---------------+---------------------+----------------------+----+-------------+\n|          university|year|rank_display|score|                link|       country|     city|       region|                logo|   type|research_output|student_faculty_ratio|international_students|size|faculty_count|\n+--------------------+----+------------+-----+--------------------+--------------+---------+-------------+--------------------+-------+---------------+---------------------+----------------------+----+-------------+\n|Massachusetts Ins...|2017|           1|100.0|https://www.topun...| United States|Cambridge|North America|https://www.topun...|Private|      Very High|                  4.0|                 3,730|   M|        3,065|\n| Stanford University|2017|           2| 98.7|https://www.topun...| United States| Stanford|North America|https://www.topun...|Private|      Very High|                  3.0|                 3,879|   L|        4,725|\n|  Harvard University|2017|           3| 98.3|https://www.topun...| United States|Cambridge|North America|https://www.topun...|Private|      Very High|                  5.0|                 5,877|   L|        4,646|\n|University of Cam...|2017|           4| 97.2|https://www.topun...|United Kingdom|Cambridge|       Europe|https://www.topun...| Public|      Very high|                  4.0|                 7,925|   L|        5,800|\n|California Instit...|2017|           5| 96.9|https://www.topun...| United States| Pasadena|North America|https://www.topun...|Private|      Very High|                  2.0|                   692|   S|          968|\n+--------------------+----+------------+-----+--------------------+--------------+---------+-------------+--------------------+-------+---------------+---------------------+----------------------+----+-------------+\nonly showing top 5 rows\n\n/opt/amazon/spark/python/lib/pyspark.zip/pyspark/sql/dataframe.py:127: UserWarning: DataFrame constructor is internal. Do not directly use it.\n",
					"output_type": "stream"
				}
			]
		},
		{
			"cell_type": "code",
			"source": "rankings_df.printSchema()",
			"metadata": {
				"trusted": true,
				"tags": []
			},
			"execution_count": 8,
			"outputs": [
				{
					"name": "stdout",
					"text": "root\n |-- university: string (nullable = true)\n |-- year: long (nullable = true)\n |-- rank_display: string (nullable = true)\n |-- score: double (nullable = true)\n |-- link: string (nullable = true)\n |-- country: string (nullable = true)\n |-- city: string (nullable = true)\n |-- region: string (nullable = true)\n |-- logo: string (nullable = true)\n |-- type: string (nullable = true)\n |-- research_output: string (nullable = true)\n |-- student_faculty_ratio: double (nullable = true)\n |-- international_students: string (nullable = true)\n |-- size: string (nullable = true)\n |-- faculty_count: string (nullable = true)\n",
					"output_type": "stream"
				}
			]
		},
		{
			"cell_type": "code",
			"source": "rankings_df.createOrReplaceTempView(\"university_ranking\")",
			"metadata": {
				"trusted": true,
				"tags": []
			},
			"execution_count": 9,
			"outputs": [
				{
					"name": "stdout",
					"text": "\n",
					"output_type": "stream"
				}
			]
		},
		{
			"cell_type": "code",
			"source": "spark.sql(\"\"\"SELECT university,year,rank_display,region,country FROM university_ranking\"\"\").show(5) ",
			"metadata": {
				"trusted": true,
				"tags": []
			},
			"execution_count": 10,
			"outputs": [
				{
					"name": "stdout",
					"text": "+--------------------+----+------------+-------------+--------------+\n|          university|year|rank_display|       region|       country|\n+--------------------+----+------------+-------------+--------------+\n|Massachusetts Ins...|2017|           1|North America| United States|\n| Stanford University|2017|           2|North America| United States|\n|  Harvard University|2017|           3|North America| United States|\n|University of Cam...|2017|           4|       Europe|United Kingdom|\n|California Instit...|2017|           5|North America| United States|\n+--------------------+----+------------+-------------+--------------+\nonly showing top 5 rows\n",
					"output_type": "stream"
				}
			]
		},
		{
			"cell_type": "code",
			"source": "spark.sql(\"\"\"SELECT university,year,rank_display, int(rank_display) as n_rank,region,country \nFROM university_ranking\"\"\").show(5)",
			"metadata": {
				"trusted": true,
				"tags": []
			},
			"execution_count": 11,
			"outputs": [
				{
					"name": "stdout",
					"text": "+--------------------+----+------------+------+-------------+--------------+\n|          university|year|rank_display|n_rank|       region|       country|\n+--------------------+----+------------+------+-------------+--------------+\n|Massachusetts Ins...|2017|           1|     1|North America| United States|\n| Stanford University|2017|           2|     2|North America| United States|\n|  Harvard University|2017|           3|     3|North America| United States|\n|University of Cam...|2017|           4|     4|       Europe|United Kingdom|\n|California Instit...|2017|           5|     5|North America| United States|\n+--------------------+----+------------+------+-------------+--------------+\nonly showing top 5 rows\n",
					"output_type": "stream"
				}
			]
		},
		{
			"cell_type": "code",
			"source": "spark.sql(\"\"\"SELECT university,year,rank_display, int(rank_display) as n_rank,region,country \nFROM university_ranking\"\"\").show(5)",
			"metadata": {
				"trusted": true,
				"tags": []
			},
			"execution_count": 12,
			"outputs": [
				{
					"name": "stdout",
					"text": "+--------------------+----+------------+------+-------------+--------------+\n|          university|year|rank_display|n_rank|       region|       country|\n+--------------------+----+------------+------+-------------+--------------+\n|Massachusetts Ins...|2017|           1|     1|North America| United States|\n| Stanford University|2017|           2|     2|North America| United States|\n|  Harvard University|2017|           3|     3|North America| United States|\n|University of Cam...|2017|           4|     4|       Europe|United Kingdom|\n|California Instit...|2017|           5|     5|North America| United States|\n+--------------------+----+------------+------+-------------+--------------+\nonly showing top 5 rows\n",
					"output_type": "stream"
				}
			]
		},
		{
			"cell_type": "code",
			"source": "spark.sql(\"\"\"SELECT university,year,rank_display, int(rank_display) as n_rank,region,country \nFROM university_ranking\nWHERE rank_display like '%-%'\"\"\").show(5)",
			"metadata": {
				"trusted": true,
				"tags": []
			},
			"execution_count": 13,
			"outputs": [
				{
					"name": "stdout",
					"text": "+--------------------+----+------------+------+-------------+--------------------+\n|          university|year|rank_display|n_rank|       region|             country|\n+--------------------+----+------------+------+-------------+--------------------+\n|Bandung Institute...|2017|     401-410|  null|         Asia|           Indonesia|\n| Brandeis University|2017|     401-410|  null|North America|       United States|\n|Illinois Institut...|2017|     401-410|  null|North America|       United States|\n|Johannes Gutenber...|2017|     401-410|  null|       Europe|             Germany|\n|Khalifa Universit...|2017|     401-410|  null|         Asia|United Arab Emirates|\n+--------------------+----+------------+------+-------------+--------------------+\nonly showing top 5 rows\n",
					"output_type": "stream"
				}
			]
		},
		{
			"cell_type": "code",
			"source": "spark.sql(\"\"\"SELECT university,year,rank_display, int(split(rank_display,'-')[0]) as n_rank,region,country \nFROM university_ranking\nWHERE rank_display like '%-%'\"\"\").show(5)",
			"metadata": {
				"trusted": true,
				"tags": []
			},
			"execution_count": 14,
			"outputs": [
				{
					"name": "stdout",
					"text": "+--------------------+----+------------+------+-------------+--------------------+\n|          university|year|rank_display|n_rank|       region|             country|\n+--------------------+----+------------+------+-------------+--------------------+\n|Bandung Institute...|2017|     401-410|   401|         Asia|           Indonesia|\n| Brandeis University|2017|     401-410|   401|North America|       United States|\n|Illinois Institut...|2017|     401-410|   401|North America|       United States|\n|Johannes Gutenber...|2017|     401-410|   401|       Europe|             Germany|\n|Khalifa Universit...|2017|     401-410|   401|         Asia|United Arab Emirates|\n+--------------------+----+------------+------+-------------+--------------------+\nonly showing top 5 rows\n",
					"output_type": "stream"
				}
			]
		},
		{
			"cell_type": "code",
			"source": "spark.sql(\"\"\"SELECT \n    university,\n    coalesce(int(year),9999) as year,\n    rank_display,\n    coalesce(int(split(rank_display,'-')[0]),9999) as n_rank,\n    coalesce(float(score),-1) as score,\n    country, city, region, type,\n    research_output,\n    coalesce(float(student_faculty_ratio),-1) as student_faculty_ratio,\n    coalesce(int(regexp_replace(international_students,'[.,]','')),-1) as international_students,\n    size,\n    coalesce(int(regexp_replace(faculty_count,'[.,]','')),-1) as faculty_count\n    FROM university_ranking\"\"\").show(5) ",
			"metadata": {
				"trusted": true,
				"tags": []
			},
			"execution_count": 15,
			"outputs": [
				{
					"name": "stdout",
					"text": "+--------------------+----+------------+------+-----+--------------+---------+-------------+-------+---------------+---------------------+----------------------+----+-------------+\n|          university|year|rank_display|n_rank|score|       country|     city|       region|   type|research_output|student_faculty_ratio|international_students|size|faculty_count|\n+--------------------+----+------------+------+-----+--------------+---------+-------------+-------+---------------+---------------------+----------------------+----+-------------+\n|Massachusetts Ins...|2017|           1|     1|100.0| United States|Cambridge|North America|Private|      Very High|                  4.0|                  3730|   M|         3065|\n| Stanford University|2017|           2|     2| 98.7| United States| Stanford|North America|Private|      Very High|                  3.0|                  3879|   L|         4725|\n|  Harvard University|2017|           3|     3| 98.3| United States|Cambridge|North America|Private|      Very High|                  5.0|                  5877|   L|         4646|\n|University of Cam...|2017|           4|     4| 97.2|United Kingdom|Cambridge|       Europe| Public|      Very high|                  4.0|                  7925|   L|         5800|\n|California Instit...|2017|           5|     5| 96.9| United States| Pasadena|North America|Private|      Very High|                  2.0|                   692|   S|          968|\n+--------------------+----+------------+------+-----+--------------+---------+-------------+-------+---------------+---------------------+----------------------+----+-------------+\nonly showing top 5 rows\n",
					"output_type": "stream"
				}
			]
		},
		{
			"cell_type": "code",
			"source": "clean_rankings_df = spark.sql(\"\"\"SELECT \n    university,\n    coalesce(int(year),9999) as year,\n    rank_display,\n    coalesce(int(split(rank_display,'-')[0]),9999) as n_rank,\n    coalesce(float(score),-1) as score,\n    country, city, region, type,\n    research_output,\n    coalesce(float(student_faculty_ratio),-1) as student_faculty_ratio,\n    coalesce(int(regexp_replace(international_students,'[.,]','')),-1) as international_students,\n    size,\n    coalesce(int(regexp_replace(faculty_count,'[.,]','')),-1) as faculty_count\n    FROM university_ranking\"\"\") ",
			"metadata": {
				"trusted": true,
				"tags": []
			},
			"execution_count": 16,
			"outputs": [
				{
					"name": "stdout",
					"text": "\n",
					"output_type": "stream"
				}
			]
		},
		{
			"cell_type": "code",
			"source": "clean_dynamic_frame = DynamicFrame.fromDF(clean_rankings_df, glueContext, \"university_ranking_clean\") ",
			"metadata": {
				"trusted": true,
				"tags": []
			},
			"execution_count": 21,
			"outputs": [
				{
					"name": "stdout",
					"text": "\n",
					"output_type": "stream"
				}
			]
		},
		{
			"cell_type": "code",
			"source": "\n\"\"\"\nimport boto3\nimport pandas as pd\nfrom io import StringIO\n\n\ns3 = boto3.client('s3')\n\nclean_df = clean_dynamic_frame.toDF()\ncsv_buffer = StringIO()\npd.to_csv(csv_buffer, index=False)\n        \n# Upload the CSV file\ns3.put_object(Body=csv_buffer.getvalue(), Bucket='qsranking-rayon', Key='university_ranking/csv_clean/university_ranking_clean.csv')\n\n\"\"\"",
			"metadata": {
				"trusted": true,
				"tags": []
			},
			"execution_count": 24,
			"outputs": [
				{
					"name": "stdout",
					"text": "AttributeError: 'DataFrame' object has no attribute 'to_csv'\n",
					"output_type": "stream"
				}
			]
		},
		{
			"cell_type": "code",
			"source": "import boto3\nimport pandas as pd\nfrom io import StringIO\n\n# Convert DynamicFrame to DataFrame\nclean_df = clean_dynamic_frame.toDF()\n\n# Define the S3 bucket and file path\nbucket_name = 'qsranking-rayon'\nobject_key = 'university_ranking/csv_clean/university_ranking_clean.csv'\n\n# Save DataFrame to S3 as CSV\nclean_df.write \\\n    .format(\"csv\") \\\n    .option(\"header\", \"true\") \\\n    .mode(\"overwrite\") \\\n    .save(\"s3://\" + bucket_name + \"/\" + object_key)",
			"metadata": {
				"trusted": true,
				"tags": []
			},
			"execution_count": 25,
			"outputs": [
				{
					"name": "stdout",
					"text": "\n",
					"output_type": "stream"
				}
			]
		},
		{
			"cell_type": "code",
			"source": "spark.stop()",
			"metadata": {
				"trusted": true,
				"tags": []
			},
			"execution_count": 26,
			"outputs": [
				{
					"name": "stdout",
					"text": "\n",
					"output_type": "stream"
				}
			]
		},
		{
			"cell_type": "code",
			"source": "",
			"metadata": {},
			"execution_count": null,
			"outputs": []
		}
	]
}